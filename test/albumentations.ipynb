{
 "cells": [
  {
   "cell_type": "code",
   "execution_count": null,
   "metadata": {},
   "outputs": [],
   "source": [
    "import cv2\n",
    "import numpy as np\n",
    "from torchvision import transforms\n",
    "import albumentations as A\n",
    "from albumentations.pytorch import ToTensorV2\n",
    "import matplotlib.pyplot as plt\n",
    "from PIL import Image"
   ]
  },
  {
   "cell_type": "code",
   "execution_count": null,
   "metadata": {},
   "outputs": [],
   "source": [
    "img_p = 'D:/IMG_Dataset_val/test/_0803.jpg'\n",
    "img = cv2.imread(img_p, cv2.IMREAD_COLOR)\n",
    "img = cv2.cvtColor(img, cv2.COLOR_BGR2RGB).astype(np.uint8)\n",
    "plt.imshow(img)"
   ]
  },
  {
   "cell_type": "code",
   "execution_count": null,
   "metadata": {},
   "outputs": [],
   "source": [
    "aug = []\n",
    "param = (0, 30)\n",
    "aug = A.Compose([\n",
    "    A.JpegCompression(quality_lower=param[0], quality_upper=param[1], p=0.5),\n",
    "    A.Resize(500, 500),\n",
    "    A.GaussianBlur(p=0.3),\n",
    "    A.HorizontalFlip(p=0.5),\n",
    "    # ToTensorV2(),\n",
    "    A.Normalize(mean=(0.485, 0.456, 0.406), std=(0.229, 0.224, 0.225)),\n",
    "    ])\n",
    "plt.imshow(aug(image=img)['image'])\n"
   ]
  },
  {
   "cell_type": "code",
   "execution_count": null,
   "metadata": {},
   "outputs": [],
   "source": [
    "trs = transforms.Compose([\n",
    "    transforms.GaussianBlur(kernel_size=3),])\n",
    "img_pil = Image.fromarray(img)\n",
    "plt.imshow(trs(img_pil))\n"
   ]
  }
 ],
 "metadata": {
  "interpreter": {
   "hash": "a981208386a38f832c3305f5fa751bd77f5a551979e9b97736d61d75ce078eea"
  },
  "kernelspec": {
   "display_name": "Python 3.9.6 64-bit",
   "language": "python",
   "name": "python3"
  },
  "language_info": {
   "codemirror_mode": {
    "name": "ipython",
    "version": 3
   },
   "file_extension": ".py",
   "mimetype": "text/x-python",
   "name": "python",
   "nbconvert_exporter": "python",
   "pygments_lexer": "ipython3",
   "version": "3.9.6"
  },
  "orig_nbformat": 4
 },
 "nbformat": 4,
 "nbformat_minor": 2
}
